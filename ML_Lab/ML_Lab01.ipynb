{
 "cells": [
  {
   "cell_type": "markdown",
   "id": "3a7a2b18",
   "metadata": {},
   "source": [
    "# Machine Learning Lab-01"
   ]
  },
  {
   "cell_type": "code",
   "execution_count": 9,
   "id": "e5755b73",
   "metadata": {},
   "outputs": [
    {
     "name": "stdout",
     "output_type": "stream",
     "text": [
      "Hello World!\n",
      "\n",
      "<class 'float'>\n",
      "<class 'int'>\n",
      "15.1\n",
      "-4.9\n",
      "51.0\n",
      "0.51\n",
      "Lorem Ipsum\n",
      "ArithmeticError\n",
      "Lorem Ipsum\n",
      "Lor\n",
      "muspI meroL\n",
      "LOREM IPSUM\n",
      "arithmeticerror\n",
      "H e l l o  W o r l d !\n",
      "H e Y Y o  W o r Y d !\n",
      "Lorem IpsumArithmeticError\n",
      "Hello my name is Yash and my age is 20.\n"
     ]
    }
   ],
   "source": [
    "# Python Brush Up:\n",
    "print(\"Hello World!\\n\")\n",
    "\n",
    "# variable declaration:\n",
    "x = 5.1\n",
    "y = 10\n",
    "\n",
    "# Verify type of any Object:\n",
    "print(type(x))\n",
    "print((type(y)))\n",
    "\n",
    "# Math Operators In Python:\n",
    "print(x + y)\n",
    "print(x - y)\n",
    "print(x * y)\n",
    "print(x / y)\n",
    "\n",
    "# Strings in Python:\n",
    "s1 = \"Lorem Ipsum\"\n",
    "s2 = \"ArithmeticError\"\n",
    "print(s1)\n",
    "print(s2)\n",
    "\n",
    "# String slicing in Python:\n",
    "print(s1[:])\n",
    "print(s1[0:3])\n",
    "print(s1[::-1])\n",
    "\n",
    "# Modify Strings:\n",
    "print(s1.upper())\n",
    "print(s2.lower())\n",
    "\n",
    "# Remove whitespaces:\n",
    "s3 = \"H e l l o  W o r l d !\"\n",
    "print(s3.strip())\n",
    "\n",
    "# Replace String:\n",
    "print(s3.replace(\"l\", \"Y\"))\n",
    "\n",
    "# String concatenation:\n",
    "print(s1 + s2)\n",
    "\n",
    "# String Formatting:\n",
    "user_name = \"Yash\"\n",
    "age = 20\n",
    "print(f\"Hello my name is {user_name} and I am {age} years old.\\n\")\n"
   ]
  },
  {
   "cell_type": "code",
   "execution_count": 12,
   "id": "ffea7a5b",
   "metadata": {},
   "outputs": [
    {
     "name": "stdout",
     "output_type": "stream",
     "text": [
      "[3, 1, 2, 'NEW', 'OLD', -9]\n"
     ]
    }
   ],
   "source": [
    "list1 = [3, 1, 2, \"NEW\", \"OLD\", -9]\n",
    "print(list1)"
   ]
  },
  {
   "cell_type": "code",
   "execution_count": 13,
   "id": "1aa70ffa",
   "metadata": {},
   "outputs": [
    {
     "name": "stdout",
     "output_type": "stream",
     "text": [
      "6\n"
     ]
    }
   ],
   "source": [
    "print(len(list1))"
   ]
  },
  {
   "cell_type": "code",
   "execution_count": 14,
   "id": "8ede30ca",
   "metadata": {},
   "outputs": [
    {
     "name": "stdout",
     "output_type": "stream",
     "text": [
      "<class 'list'>\n"
     ]
    }
   ],
   "source": [
    "print(type(list1))"
   ]
  },
  {
   "cell_type": "code",
   "execution_count": 16,
   "id": "c0d8a450",
   "metadata": {},
   "outputs": [
    {
     "name": "stdout",
     "output_type": "stream",
     "text": [
      "-9\n"
     ]
    }
   ],
   "source": [
    "print(list1[-1])"
   ]
  },
  {
   "cell_type": "code",
   "execution_count": 21,
   "id": "832962a8",
   "metadata": {},
   "outputs": [
    {
     "name": "stdout",
     "output_type": "stream",
     "text": [
      "[3, 1, 'apple', 2, 'NEW', 'OLD', 'apple', 'apple', -9, 'apple']\n"
     ]
    }
   ],
   "source": [
    "# Insert item in List:\n",
    "list1.insert(6, \"apple\")\n",
    "print(list1)"
   ]
  },
  {
   "cell_type": "code",
   "execution_count": 22,
   "id": "cf68e21b",
   "metadata": {},
   "outputs": [
    {
     "name": "stdout",
     "output_type": "stream",
     "text": [
      "[0, 4, 16, 36]\n"
     ]
    }
   ],
   "source": [
    "nums = [0, 2, 4, 6]\n",
    "\n",
    "squares = []\n",
    "\n",
    "for x in nums:\n",
    "    squares.append(x ** 2)\n",
    "print(squares)"
   ]
  },
  {
   "cell_type": "code",
   "execution_count": null,
   "id": "9e07bca4",
   "metadata": {},
   "outputs": [],
   "source": []
  }
 ],
 "metadata": {
  "kernelspec": {
   "display_name": "base",
   "language": "python",
   "name": "python3"
  },
  "language_info": {
   "codemirror_mode": {
    "name": "ipython",
    "version": 3
   },
   "file_extension": ".py",
   "mimetype": "text/x-python",
   "name": "python",
   "nbconvert_exporter": "python",
   "pygments_lexer": "ipython3",
   "version": "3.9.13"
  },
  "vscode": {
   "interpreter": {
    "hash": "ad2bdc8ecc057115af97d19610ffacc2b4e99fae6737bb82f5d7fb13d2f2c186"
   }
  }
 },
 "nbformat": 4,
 "nbformat_minor": 5
}
